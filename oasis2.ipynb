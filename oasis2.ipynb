{
 "cells": [
  {
   "cell_type": "code",
   "execution_count": 4,
   "id": "881c6c96-3631-4c88-b10d-736085a9dce4",
   "metadata": {},
   "outputs": [
    {
     "name": "stdin",
     "output_type": "stream",
     "text": [
      "Enter your weight in kg (positive number):  100\n",
      "Enter your height in meters (positive number):  1.2\n"
     ]
    },
    {
     "name": "stdout",
     "output_type": "stream",
     "text": [
      "BMI: 69.44\n",
      "You are obese.\n"
     ]
    }
   ],
   "source": [
    "\n",
    "#BMI CALCULATOR\n",
    "def get_valid_float(prompt, min_value=None, max_value=None):\n",
    "    while True:\n",
    "        try:\n",
    "            value = float(input(prompt))\n",
    "            if (min_value is not None and value <= min_value) or (max_value is not None and value >= max_value):\n",
    "                raise ValueError(f\"Input must be between {min_value} and {max_value}.\")\n",
    "            return value\n",
    "        except ValueError as e:\n",
    "            print(f\"Invalid input: {e}. Please try again.\")\n",
    "\n",
    "# Get valid user inputs\n",
    "weight = get_valid_float(\"Enter your weight in kg (positive number): \", min_value=0)\n",
    "height = get_valid_float(\"Enter your height in meters (positive number): \", min_value=0)\n",
    "\n",
    "# BMI calculation\n",
    "BMI = weight / (height ** 2)\n",
    "print(f\"BMI: {BMI:.2f}\")\n",
    "\n",
    "# Determine weight category\n",
    "if BMI < 16:\n",
    "    print(\"You are severely underweight.\")\n",
    "elif 16 <= BMI < 18.5:\n",
    "    print(\"You are underweight.\")\n",
    "elif 18.5 <= BMI < 24:\n",
    "    print(\"You are healthy.\")\n",
    "elif 25 <= BMI < 30:\n",
    "    print(\"You are overweight.\")\n",
    "else:  # BMI >= 30\n",
    "    print(\"You are obese.\")\n",
    "    \n"
   ]
  },
  {
   "cell_type": "code",
   "execution_count": null,
   "id": "9f5b6211-2e17-41f1-9234-a14d441b0021",
   "metadata": {},
   "outputs": [],
   "source": []
  }
 ],
 "metadata": {
  "kernelspec": {
   "display_name": "Python 3 (ipykernel)",
   "language": "python",
   "name": "python3"
  },
  "language_info": {
   "codemirror_mode": {
    "name": "ipython",
    "version": 3
   },
   "file_extension": ".py",
   "mimetype": "text/x-python",
   "name": "python",
   "nbconvert_exporter": "python",
   "pygments_lexer": "ipython3",
   "version": "3.12.4"
  }
 },
 "nbformat": 4,
 "nbformat_minor": 5
}
