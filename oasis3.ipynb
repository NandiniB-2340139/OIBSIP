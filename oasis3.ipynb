{
 "cells": [
  {
   "cell_type": "code",
   "execution_count": 6,
   "id": "01656ed0-c590-4ba3-9953-201a1c52f643",
   "metadata": {},
   "outputs": [
    {
     "name": "stdin",
     "output_type": "stream",
     "text": [
      "Enter password length (integer greater than 0):  7\n",
      "Do you want numbers (y/n)?  y\n",
      "Do you want to have special characters (y/n)?  n\n"
     ]
    },
    {
     "name": "stdout",
     "output_type": "stream",
     "text": [
      "Your password is: BFNV30D\n"
     ]
    }
   ],
   "source": [
    "import string\n",
    "import random\n",
    "\n",
    "def generate_password(min_length, numbers=True, special_characters=True):\n",
    "    # Define character sets\n",
    "    letters = string.ascii_letters\n",
    "    digits = string.digits\n",
    "    symbols = string.punctuation\n",
    "\n",
    "    # Initialize the character pool\n",
    "    characters = letters\n",
    "    if numbers:\n",
    "        characters += digits\n",
    "    if special_characters:\n",
    "        characters += symbols\n",
    "\n",
    "    # Ensure that the pool is not empty\n",
    "    if not characters:\n",
    "        raise ValueError(\"No characters available for password generation.\")\n",
    "\n",
    "    pwd = []\n",
    "    has_number = False\n",
    "    has_special = False\n",
    "\n",
    "    while len(pwd) < min_length or (numbers and not has_number) or (special_characters and not has_special):\n",
    "        new_char = random.choice(characters)\n",
    "        pwd.append(new_char)\n",
    "\n",
    "        # Track if we have the required characters\n",
    "        if new_char in digits:\n",
    "            has_number = True\n",
    "        if new_char in symbols:\n",
    "            has_special = True\n",
    "\n",
    "    # Convert list to string\n",
    "    return ''.join(pwd)\n",
    "\n",
    "def get_valid_input(prompt, validation_func):\n",
    "    while True:\n",
    "        try:\n",
    "            value = validation_func(input(prompt))\n",
    "            return value\n",
    "        except ValueError as e:\n",
    "            print(e)\n",
    "\n",
    "# Input prompts with validation\n",
    "min_length = get_valid_input(\n",
    "    \"Enter password length (integer greater than 0): \",\n",
    "    lambda x: int(x) if int(x) > 0 else ValueError(\"Password length must be greater than 0.\")\n",
    ")\n",
    "\n",
    "has_number = get_valid_input(\n",
    "    \"Do you want numbers (y/n)? \",\n",
    "    lambda x: x.lower() == \"y\"\n",
    ")\n",
    "\n",
    "has_special = get_valid_input(\n",
    "    \"Do you want to have special characters (y/n)? \",\n",
    "    lambda x: x.lower() == \"y\"\n",
    ")\n",
    "\n",
    "# Generate and print the password\n",
    "try:\n",
    "    pwd = generate_password(min_length, has_number, has_special)\n",
    "    print(\"Your password is:\", pwd)\n",
    "except ValueError as e:\n",
    "    print(\"Error:\", e)\n"
   ]
  },
  {
   "cell_type": "code",
   "execution_count": null,
   "id": "087f7cdc-67d5-4cbe-854f-fe08e72d9a1a",
   "metadata": {},
   "outputs": [],
   "source": []
  }
 ],
 "metadata": {
  "kernelspec": {
   "display_name": "Python 3 (ipykernel)",
   "language": "python",
   "name": "python3"
  },
  "language_info": {
   "codemirror_mode": {
    "name": "ipython",
    "version": 3
   },
   "file_extension": ".py",
   "mimetype": "text/x-python",
   "name": "python",
   "nbconvert_exporter": "python",
   "pygments_lexer": "ipython3",
   "version": "3.12.4"
  }
 },
 "nbformat": 4,
 "nbformat_minor": 5
}
